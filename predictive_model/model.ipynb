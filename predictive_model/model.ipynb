{
 "cells": [
  {
   "cell_type": "markdown",
   "id": "aad39a87",
   "metadata": {},
   "source": [
    "### **Predição de Defeitos em Classes de Software**\n",
    "\n",
    "Este notebook treina um modelo preditivo para identificar se uma classe de software terá ou não **defeitos**, usando métricas de código como CBO, WMC, DIT, RFC, LCOM, entre outras.\n",
    "\n",
    "---\n",
    "\n",
    "#### **Dataset**\n",
    "- Total de instâncias: **6052**\n",
    "- Features numéricas: **21**\n",
    "- Target: **defect (0/1)**\n",
    "- Distribuição: **≈50% defeito / 50% não defeito**\n",
    "- Dados sem valores ausentes e sem duplicatas.\n",
    "\n",
    "---\n",
    "\n",
    "#### **Pré-processamento**\n",
    "- **Clipping** (valores negativos → 0)  \n",
    "- **Transformação log1p** (reduz viés à direita)  \n",
    "- **RobustScaler** (robusto a outliers)  \n",
    "\n",
    "---\n",
    "\n",
    "#### **Modelos testados**\n",
    "- **Logistic Regression** → ROC AUC médio = **0.8901**  \n",
    "- **Random Forest** → ROC AUC médio = 0.7596  \n",
    "- **Gradient Boosting** → ROC AUC médio = 0.8332  \n",
    "\n",
    "✅ Melhor modelo: **Logistic Regression**\n",
    "\n",
    "\n"
   ]
  },
  {
   "cell_type": "markdown",
   "id": "1f597edc",
   "metadata": {},
   "source": []
  }
 ],
 "metadata": {
  "language_info": {
   "name": "python"
  }
 },
 "nbformat": 4,
 "nbformat_minor": 5
}
